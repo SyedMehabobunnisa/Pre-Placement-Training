{
 "cells": [
  {
   "cell_type": "markdown",
   "id": "48832a6f",
   "metadata": {},
   "source": [
    "**Question 1**\n",
    "\n",
    "Given a non-negative integer `x`, return *the square root of* `x` *rounded down to the nearest integer*. The returned integer should be **non-negative** as well.\n",
    "\n",
    "You **must not use** any built-in exponent function or operator.\n",
    "\n",
    "- For example, do not use `pow(x, 0.5)` in c++ or `x ** 0.5` in python.\n",
    "\n",
    "**Example 1:**  \n",
    "Input: x = 4  \n",
    "Output: 2  \n",
    "Explanation: The square root of 4 is 2, so we return 2.  \n",
    "**Example 2:**  \n",
    "Input: x = 8  \n",
    "Output: 2  \n",
    "Explanation: The square root of 8 is 2.82842..., and since we round it down to the nearest integer, 2 is returned.\n"
   ]
  },
  {
   "cell_type": "code",
   "execution_count": 1,
   "id": "1894a691",
   "metadata": {},
   "outputs": [
    {
     "name": "stdout",
     "output_type": "stream",
     "text": [
      "2\n"
     ]
    }
   ],
   "source": [
    "#Example 1\n",
    "def mySqrt(x):\n",
    "    if x == 0:\n",
    "        return 0\n",
    "\n",
    "    left, right = 1, x\n",
    "    while left <= right:\n",
    "        mid = (left + right) // 2\n",
    "        square = mid * mid\n",
    "\n",
    "        if square == x:\n",
    "            return mid\n",
    "        elif square < x:\n",
    "            left = mid + 1\n",
    "        else:\n",
    "            right = mid - 1\n",
    "\n",
    "    return right \n",
    "\n",
    "x = 4\n",
    "result = mySqrt(x)\n",
    "print(result)  "
   ]
  },
  {
   "cell_type": "code",
   "execution_count": 2,
   "id": "fc6797bd",
   "metadata": {},
   "outputs": [
    {
     "name": "stdout",
     "output_type": "stream",
     "text": [
      "2\n"
     ]
    }
   ],
   "source": [
    "#Example 2\n",
    "def mySqrt(x):\n",
    "    if x == 0:\n",
    "        return 0\n",
    "\n",
    "    left, right = 1, x\n",
    "    while left <= right:\n",
    "        mid = (left + right) // 2\n",
    "        square = mid * mid\n",
    "\n",
    "        if square == x:\n",
    "            return mid\n",
    "        elif square < x:\n",
    "            left = mid + 1\n",
    "        else:\n",
    "            right = mid - 1\n",
    "\n",
    "    return right \n",
    "\n",
    "x = 8\n",
    "result = mySqrt(x)\n",
    "print(result) "
   ]
  },
  {
   "cell_type": "markdown",
   "id": "5eb61a5c",
   "metadata": {},
   "source": [
    "**Question 2**\n",
    "\n",
    "A peak element is an element that is strictly greater than its neighbors.\n",
    "\n",
    "Given a **0-indexed** integer array `nums`, find a peak element, and return its index. If the array contains multiple peaks, return the index to **any of the peaks**.\n",
    "\n",
    "You may imagine that `nums[-1] = nums[n] = -∞`. In other words, an element is always considered to be strictly greater than a neighbor that is outside the array.\n",
    "\n",
    "You must write an algorithm that runs in `O(log n)` time.\n",
    "\n",
    "**Example 1:**  \n",
    "Input: nums = [1,2,3,1]  \n",
    "Output: 2  \n",
    "Explanation: 3 is a peak element and your function should return the index number 2.  \n",
    "**Example 2:**  \n",
    "Input: nums = [1,2,1,3,5,6,4]  \n",
    "Output: 5  \n",
    "Explanation: Your function can return either index number 1 where the peak element is 2, or index number 5 where the peak element is 6."
   ]
  },
  {
   "cell_type": "code",
   "execution_count": 4,
   "id": "bdb41c2f",
   "metadata": {},
   "outputs": [
    {
     "name": "stdout",
     "output_type": "stream",
     "text": [
      "2\n"
     ]
    }
   ],
   "source": [
    "#Example 1\n",
    "def findPeakElement(nums):\n",
    "    left, right = 0, len(nums) - 1\n",
    "\n",
    "    while left < right:\n",
    "        mid = left + (right - left) // 2\n",
    "\n",
    "        if nums[mid] < nums[mid + 1]:\n",
    "            left = mid + 1\n",
    "        else:\n",
    "            right = mid\n",
    "\n",
    "    return left\n",
    "nums = [1, 2, 3, 1]\n",
    "result = findPeakElement(nums)\n",
    "print(result) "
   ]
  },
  {
   "cell_type": "code",
   "execution_count": 5,
   "id": "9abddd6d",
   "metadata": {},
   "outputs": [
    {
     "name": "stdout",
     "output_type": "stream",
     "text": [
      "5\n"
     ]
    }
   ],
   "source": [
    "#Example 2\n",
    "def findPeakElement(nums):\n",
    "    left, right = 0, len(nums) - 1\n",
    "\n",
    "    while left < right:\n",
    "        mid = left + (right - left) // 2\n",
    "\n",
    "        if nums[mid] < nums[mid + 1]:\n",
    "            left = mid + 1\n",
    "        else:\n",
    "            right = mid\n",
    "\n",
    "    return left\n",
    "\n",
    "nums = [1, 2, 1, 3, 5, 6, 4]\n",
    "result = findPeakElement(nums)\n",
    "print(result) "
   ]
  },
  {
   "cell_type": "markdown",
   "id": "d3538b19",
   "metadata": {},
   "source": [
    "**Question 3**\n",
    "\n",
    "\n",
    "Given an array `nums` containing `n` distinct numbers in the range `[0, n]`, return *the only number in the range that is missing from the array.*\n",
    "\n",
    "**Example 1:**  \n",
    "Input: nums = [3,0,1]  \n",
    "Output: 2  \n",
    "Explanation: n = 3 since there are 3 numbers, so all numbers are in the range [0,3]. 2 is the missing number in the range since it does not appear in nums.\n",
    "**Example 2:**  \n",
    "Input: nums = [0,1]  \n",
    "Output: 2  \n",
    "Explanation: n = 2 since there are 2 numbers, so all numbers are in the range [0,2]. 2 is the missing number in the range since it does not appear in nums.  \n",
    "**Example 3:**  \n",
    "Input: nums = [9,6,4,2,3,5,7,0,1]  \n",
    "Output: 8\n",
    "Explanation: n = 9 since there are 9 numbers, so all numbers are in the range [0,9]. 8 is the missing number in the range since it does not appear in nums."
   ]
  },
  {
   "cell_type": "code",
   "execution_count": 6,
   "id": "1c1368d3",
   "metadata": {},
   "outputs": [
    {
     "name": "stdout",
     "output_type": "stream",
     "text": [
      "2\n"
     ]
    }
   ],
   "source": [
    "#Example 1\n",
    "def missingNumber(nums):\n",
    "    missing = len(nums) \n",
    "\n",
    "    for i, num in enumerate(nums):\n",
    "        missing ^= i ^ num \n",
    "\n",
    "    return missing\n",
    "\n",
    "nums = [3, 0, 1]\n",
    "result = missingNumber(nums)\n",
    "print(result) "
   ]
  },
  {
   "cell_type": "code",
   "execution_count": 7,
   "id": "fb054e88",
   "metadata": {},
   "outputs": [
    {
     "name": "stdout",
     "output_type": "stream",
     "text": [
      "2\n"
     ]
    }
   ],
   "source": [
    "#Example 2\n",
    "def missingNumber(nums):\n",
    "    missing = len(nums) \n",
    "\n",
    "    for i, num in enumerate(nums):\n",
    "        missing ^= i ^ num \n",
    "\n",
    "    return missing\n",
    "\n",
    "nums = [0, 1]\n",
    "result = missingNumber(nums)\n",
    "print(result) "
   ]
  },
  {
   "cell_type": "code",
   "execution_count": 8,
   "id": "25486e9b",
   "metadata": {},
   "outputs": [
    {
     "name": "stdout",
     "output_type": "stream",
     "text": [
      "8\n"
     ]
    }
   ],
   "source": [
    "#Example 3\n",
    "def missingNumber(nums):\n",
    "    missing = len(nums) \n",
    "\n",
    "    for i, num in enumerate(nums):\n",
    "        missing ^= i ^ num \n",
    "\n",
    "    return missing\n",
    "\n",
    "nums =  [9, 6, 4, 2, 3, 5, 7, 0, 1]\n",
    "result = missingNumber(nums)\n",
    "print(result) "
   ]
  },
  {
   "cell_type": "markdown",
   "id": "bd13f30b",
   "metadata": {},
   "source": [
    "**Question 4**\n",
    "\n",
    "Given an array of integers `nums` containing `n + 1` integers where each integer is in the range `[1, n]` inclusive.\n",
    "\n",
    "There is only **one repeated number** in `nums`, return *this repeated number*.\n",
    "\n",
    "You must solve the problem **without** modifying the array `nums` and uses only constant extra space.\n",
    "\n",
    "**Example 1:**  \n",
    "Input: nums = [1,3,4,2,2]  \n",
    "Output: 2  \n",
    "**Example 2:**    \n",
    "Input: nums = [3,1,3,4,2]  \n",
    "Output: 3"
   ]
  },
  {
   "cell_type": "code",
   "execution_count": 9,
   "id": "1a4e7be5",
   "metadata": {},
   "outputs": [
    {
     "name": "stdout",
     "output_type": "stream",
     "text": [
      "2\n"
     ]
    }
   ],
   "source": [
    "#Example 1\n",
    "def findDuplicate(nums):\n",
    "    slow = fast = nums[0] \n",
    "\n",
    "    while True:\n",
    "        slow = nums[slow]  \n",
    "        fast = nums[nums[fast]]  \n",
    "\n",
    "        if slow == fast:\n",
    "            break \n",
    "\n",
    "    slow = nums[0]\n",
    "\n",
    "    while slow != fast:\n",
    "        slow = nums[slow]\n",
    "        fast = nums[fast]\n",
    "\n",
    "    return slow\n",
    "\n",
    "nums = [1, 3, 4, 2, 2]\n",
    "result = findDuplicate(nums)\n",
    "print(result)  "
   ]
  },
  {
   "cell_type": "code",
   "execution_count": 10,
   "id": "13709aa0",
   "metadata": {},
   "outputs": [
    {
     "name": "stdout",
     "output_type": "stream",
     "text": [
      "3\n"
     ]
    }
   ],
   "source": [
    "#Example 2\n",
    "def findDuplicate(nums):\n",
    "    slow = fast = nums[0] \n",
    "\n",
    "    while True:\n",
    "        slow = nums[slow]  \n",
    "        fast = nums[nums[fast]]  \n",
    "\n",
    "        if slow == fast:\n",
    "            break \n",
    "\n",
    "    slow = nums[0]\n",
    "\n",
    "    while slow != fast:\n",
    "        slow = nums[slow]\n",
    "        fast = nums[fast]\n",
    "\n",
    "    return slow\n",
    "\n",
    "nums = [3, 1, 3, 4, 2]\n",
    "result = findDuplicate(nums)\n",
    "print(result)  "
   ]
  },
  {
   "cell_type": "markdown",
   "id": "ab9f8059",
   "metadata": {},
   "source": [
    " **Question 5**\n",
    "\n",
    "Given two integer arrays `nums1` and `nums2`, return *an array of their intersection*. Each element in the result must be **unique** and you may return the result in **any order**.\n",
    "\n",
    "**Example 1:**  \n",
    "Input: nums1 = [1,2,2,1], nums2 = [2,2]  \n",
    "Output: [2]  \n",
    "**Example 2:**   \n",
    "Input: nums1 = [4,9,5], nums2 = [9,4,9,8,4]  \n",
    "Output: [9,4]  \n",
    "Explanation: [4,9] is also accepted."
   ]
  },
  {
   "cell_type": "code",
   "execution_count": 11,
   "id": "a41d2eae",
   "metadata": {},
   "outputs": [
    {
     "name": "stdout",
     "output_type": "stream",
     "text": [
      "[2]\n"
     ]
    }
   ],
   "source": [
    "#Example 1\n",
    "def intersection(nums1, nums2):\n",
    "    set1 = set(nums1)\n",
    "    set2 = set(nums2)\n",
    "\n",
    "    return list(set1.intersection(set2))\n",
    "\n",
    "nums1 = [1, 2, 2, 1]\n",
    "nums2 = [2, 2]\n",
    "result = intersection(nums1, nums2)\n",
    "print(result) "
   ]
  },
  {
   "cell_type": "code",
   "execution_count": 12,
   "id": "11f7aa56",
   "metadata": {},
   "outputs": [
    {
     "name": "stdout",
     "output_type": "stream",
     "text": [
      "[9, 4]\n"
     ]
    }
   ],
   "source": [
    "#Example 2\n",
    "def intersection(nums1, nums2):\n",
    "    set1 = set(nums1)\n",
    "    set2 = set(nums2)\n",
    "\n",
    "    return list(set1.intersection(set2))\n",
    "\n",
    "nums1 = [4, 9, 5]\n",
    "nums2 = [9, 4, 9, 8, 4]\n",
    "result = intersection(nums1, nums2)\n",
    "print(result) "
   ]
  },
  {
   "cell_type": "markdown",
   "id": "2568a798",
   "metadata": {},
   "source": [
    " **Question 6**\n",
    "\n",
    "Suppose an array of length `n` sorted in ascending order is **rotated** between `1` and `n` times. For example, the array `nums = [0,1,2,4,5,6,7]` might become:\n",
    "\n",
    "- `[4,5,6,7,0,1,2]` if it was rotated `4` times.\n",
    "- `[0,1,2,4,5,6,7]` if it was rotated `7` times.\n",
    "\n",
    "Notice that **rotating** an array `[a[0], a[1], a[2], ..., a[n-1]]` 1 time results in the array `[a[n-1], a[0], a[1], a[2], ..., a[n-2]]`.\n",
    "\n",
    "Given the sorted rotated array `nums` of **unique** elements, return *the minimum element of this array*.\n",
    "\n",
    "You must write an algorithm that runs in `O(log n) time.`\n",
    "\n",
    "**Example 1:**  \n",
    "Input: nums = [3,4,5,1,2]   \n",
    "Output: 1    \n",
    "Explanation: The original array was [1,2,3,4,5] rotated 3 times.  \n",
    "**Example 2:**  \n",
    "Input: nums = [4,5,6,7,0,1,2]  \n",
    "Output: 0  \n",
    "Explanation: The original array was [0,1,2,4,5,6,7] and it was rotated 4 times.  \n",
    "**Example 3:**  \n",
    "Input: nums = [11,13,15,17]  \n",
    "Output: 11  \n",
    "Explanation: The original array was [11,13,15,17] and it was rotated 4 times."
   ]
  },
  {
   "cell_type": "code",
   "execution_count": 14,
   "id": "82dda297",
   "metadata": {},
   "outputs": [
    {
     "name": "stdout",
     "output_type": "stream",
     "text": [
      "1\n"
     ]
    }
   ],
   "source": [
    "#Example 1\n",
    "def findMin(nums):\n",
    "    left, right = 0, len(nums) - 1\n",
    "\n",
    "    while left < right:\n",
    "        mid = left + (right - left) // 2\n",
    "\n",
    "        if nums[mid] > nums[right]:\n",
    "            left = mid + 1\n",
    "        else:\n",
    "            right = mid\n",
    "\n",
    "    return nums[left]\n",
    "\n",
    "nums = [3, 4, 5, 1, 2]\n",
    "result = findMin(nums)\n",
    "print(result) "
   ]
  },
  {
   "cell_type": "code",
   "execution_count": 15,
   "id": "29d875a2",
   "metadata": {},
   "outputs": [
    {
     "name": "stdout",
     "output_type": "stream",
     "text": [
      "0\n"
     ]
    }
   ],
   "source": [
    "#Example 2\n",
    "def findMin(nums):\n",
    "    left, right = 0, len(nums) - 1\n",
    "\n",
    "    while left < right:\n",
    "        mid = left + (right - left) // 2\n",
    "\n",
    "        if nums[mid] > nums[right]:\n",
    "            left = mid + 1\n",
    "        else:\n",
    "            right = mid\n",
    "\n",
    "    return nums[left]\n",
    "\n",
    "nums = [4, 5, 6, 7, 0, 1, 2]\n",
    "result = findMin(nums)\n",
    "print(result) "
   ]
  },
  {
   "cell_type": "code",
   "execution_count": 16,
   "id": "2d8ad8a3",
   "metadata": {},
   "outputs": [
    {
     "name": "stdout",
     "output_type": "stream",
     "text": [
      "11\n"
     ]
    }
   ],
   "source": [
    "#Example 3\n",
    "def findMin(nums):\n",
    "    left, right = 0, len(nums) - 1\n",
    "\n",
    "    while left < right:\n",
    "        mid = left + (right - left) // 2\n",
    "\n",
    "        if nums[mid] > nums[right]:\n",
    "            left = mid + 1\n",
    "        else:\n",
    "            right = mid\n",
    "\n",
    "    return nums[left]\n",
    "\n",
    "nums =  [11, 13, 15, 17]\n",
    "result = findMin(nums)\n",
    "print(result) "
   ]
  },
  {
   "cell_type": "markdown",
   "id": "9abe4d64",
   "metadata": {},
   "source": [
    "**Question 7**\n",
    "\n",
    "Given an array of integers `nums` sorted in non-decreasing order, find the starting and ending position of a given `target` value.\n",
    "\n",
    "If `target` is not found in the array, return `[-1, -1]`.\n",
    "\n",
    "You must write an algorithm with `O(log n)` runtime complexity.\n",
    "\n",
    "**Example 1:**  \n",
    "Input: nums = [5,7,7,8,8,10], target = 8  \n",
    "Output: [3,4]  \n",
    "**Example 2:**  \n",
    "Input: nums = [5,7,7,8,8,10], target = 6  \n",
    "Output: [-1,-1]  \n",
    "**Example 3:**  \n",
    "Input: nums = [], target = 0  \n",
    "Output: [-1,-1]  "
   ]
  },
  {
   "cell_type": "code",
   "execution_count": 18,
   "id": "5c24d2b7",
   "metadata": {},
   "outputs": [
    {
     "name": "stdout",
     "output_type": "stream",
     "text": [
      "[3, 4]\n"
     ]
    }
   ],
   "source": [
    "#Example 1\n",
    "def searchRange(nums, target):\n",
    "    left = binarySearch(nums, target, True)\n",
    "    right = binarySearch(nums, target, False)\n",
    "    return [left, right]\n",
    "\n",
    "def binarySearch(nums, target, findLeft):\n",
    "    start = 0\n",
    "    end = len(nums) - 1\n",
    "    result = -1\n",
    "    \n",
    "    while start <= end:\n",
    "        mid = start + (end - start) // 2\n",
    "        \n",
    "        if nums[mid] == target:\n",
    "            result = mid\n",
    "            if findLeft:\n",
    "                end = mid - 1\n",
    "            else:\n",
    "                start = mid + 1\n",
    "        elif nums[mid] < target:\n",
    "            start = mid + 1\n",
    "        else:\n",
    "            end = mid - 1\n",
    "    \n",
    "    return result\n",
    "\n",
    "nums = [5, 7, 7, 8, 8, 10]\n",
    "target = 8\n",
    "result = searchRange(nums, target)\n",
    "print(result)"
   ]
  },
  {
   "cell_type": "code",
   "execution_count": 19,
   "id": "ecdb99dc",
   "metadata": {},
   "outputs": [
    {
     "name": "stdout",
     "output_type": "stream",
     "text": [
      "[-1, -1]\n"
     ]
    }
   ],
   "source": [
    "#Example 2\n",
    "def searchRange(nums, target):\n",
    "    left = binarySearch(nums, target, True)\n",
    "    right = binarySearch(nums, target, False)\n",
    "    return [left, right]\n",
    "\n",
    "def binarySearch(nums, target, findLeft):\n",
    "    start = 0\n",
    "    end = len(nums) - 1\n",
    "    result = -1\n",
    "    \n",
    "    while start <= end:\n",
    "        mid = start + (end - start) // 2\n",
    "        \n",
    "        if nums[mid] == target:\n",
    "            result = mid\n",
    "            if findLeft:\n",
    "                end = mid - 1\n",
    "            else:\n",
    "                start = mid + 1\n",
    "        elif nums[mid] < target:\n",
    "            start = mid + 1\n",
    "        else:\n",
    "            end = mid - 1\n",
    "    \n",
    "    return result\n",
    "\n",
    "nums = [5, 7, 7, 8, 8, 10]\n",
    "target = 6\n",
    "result = searchRange(nums, target)\n",
    "print(result)"
   ]
  },
  {
   "cell_type": "code",
   "execution_count": 20,
   "id": "721cf819",
   "metadata": {},
   "outputs": [
    {
     "name": "stdout",
     "output_type": "stream",
     "text": [
      "[-1, -1]\n"
     ]
    }
   ],
   "source": [
    "#Example 3\n",
    "def searchRange(nums, target):\n",
    "    left = binarySearch(nums, target, True)\n",
    "    right = binarySearch(nums, target, False)\n",
    "    return [left, right]\n",
    "\n",
    "def binarySearch(nums, target, findLeft):\n",
    "    start = 0\n",
    "    end = len(nums) - 1\n",
    "    result = -1\n",
    "    \n",
    "    while start <= end:\n",
    "        mid = start + (end - start) // 2\n",
    "        \n",
    "        if nums[mid] == target:\n",
    "            result = mid\n",
    "            if findLeft:\n",
    "                end = mid - 1\n",
    "            else:\n",
    "                start = mid + 1\n",
    "        elif nums[mid] < target:\n",
    "            start = mid + 1\n",
    "        else:\n",
    "            end = mid - 1\n",
    "    \n",
    "    return result\n",
    "\n",
    "nums = []\n",
    "target = 0\n",
    "result = searchRange(nums, target)\n",
    "print(result)"
   ]
  },
  {
   "cell_type": "markdown",
   "id": "892771ab",
   "metadata": {},
   "source": [
    " **Question 8**\n",
    "\n",
    "Given two integer arrays `nums1` and `nums2`, return *an array of their intersection*. Each element in the result must appear as many times as it shows in both arrays and you may return the result in **any order**.\n",
    "\n",
    "**Example 1:**  \n",
    "Input: nums1 = [1,2,2,1], nums2 = [2,2]  \n",
    "Output: [2,2]  \n",
    "**Example 2:**  \n",
    "Input: nums1 = [4,9,5], nums2 = [9,4,9,8,4]  \n",
    "Output: [4,9]  \n",
    "Explanation: [9,4] is also accepted."
   ]
  },
  {
   "cell_type": "code",
   "execution_count": 21,
   "id": "c03e0555",
   "metadata": {},
   "outputs": [
    {
     "name": "stdout",
     "output_type": "stream",
     "text": [
      "[2, 2]\n"
     ]
    }
   ],
   "source": [
    "#Example 1\n",
    "def intersect(nums1, nums2):\n",
    "    freq1 = {}\n",
    "    freq2 = {}\n",
    "    \n",
    "    for num in nums1:\n",
    "        freq1[num] = freq1.get(num, 0) + 1\n",
    "    \n",
    "    for num in nums2:\n",
    "        freq2[num] = freq2.get(num, 0) + 1\n",
    "    \n",
    "    intersection = []\n",
    "    for num in freq1:\n",
    "        if num in freq2:\n",
    "            count = min(freq1[num], freq2[num])\n",
    "            intersection.extend([num] * count)\n",
    "    \n",
    "    return intersection\n",
    "\n",
    "nums1 = [1, 2, 2, 1]\n",
    "nums2 = [2, 2]\n",
    "result = intersect(nums1, nums2)\n",
    "print(result)"
   ]
  },
  {
   "cell_type": "code",
   "execution_count": 22,
   "id": "53e6733c",
   "metadata": {},
   "outputs": [
    {
     "name": "stdout",
     "output_type": "stream",
     "text": [
      "[4, 9]\n"
     ]
    }
   ],
   "source": [
    "#Example 2\n",
    "def intersect(nums1, nums2):\n",
    "    freq1 = {}\n",
    "    freq2 = {}\n",
    "    \n",
    "    for num in nums1:\n",
    "        freq1[num] = freq1.get(num, 0) + 1\n",
    "    \n",
    "    for num in nums2:\n",
    "        freq2[num] = freq2.get(num, 0) + 1\n",
    "    \n",
    "    intersection = []\n",
    "    for num in freq1:\n",
    "        if num in freq2:\n",
    "            count = min(freq1[num], freq2[num])\n",
    "            intersection.extend([num] * count)\n",
    "    \n",
    "    return intersection\n",
    "\n",
    "nums1 = [4, 9, 5]\n",
    "nums2 = [9, 4, 9, 8, 4]\n",
    "result = intersect(nums1, nums2)\n",
    "print(result)"
   ]
  },
  {
   "cell_type": "code",
   "execution_count": null,
   "id": "69b81611",
   "metadata": {},
   "outputs": [],
   "source": []
  }
 ],
 "metadata": {
  "kernelspec": {
   "display_name": "Python 3 (ipykernel)",
   "language": "python",
   "name": "python3"
  },
  "language_info": {
   "codemirror_mode": {
    "name": "ipython",
    "version": 3
   },
   "file_extension": ".py",
   "mimetype": "text/x-python",
   "name": "python",
   "nbconvert_exporter": "python",
   "pygments_lexer": "ipython3",
   "version": "3.9.12"
  }
 },
 "nbformat": 4,
 "nbformat_minor": 5
}
