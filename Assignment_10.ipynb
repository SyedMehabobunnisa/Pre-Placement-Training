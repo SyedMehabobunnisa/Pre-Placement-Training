{
 "cells": [
  {
   "cell_type": "markdown",
   "id": "1163c5eb",
   "metadata": {},
   "source": [
    "**Question 1**\n",
    "\n",
    "Given an integer `n`, return *`true` if it is a power of three. Otherwise, return `false`*.\n",
    "\n",
    "An integer `n` is a power of three, if there exists an integer `x` such that `n == 3x`.\n",
    "\n",
    "**Example 1:** \n",
    "\n",
    "Input: n = 27  \n",
    "Output: true  \n",
    "Explanation: 27 = 33\n",
    "\n",
    "**Example 2:**\n",
    "\n",
    "Input: n = 0  \n",
    "Output: false  \n",
    "Explanation: There is no x where 3x = 0.  \n",
    "\n",
    "\n",
    "**Example 3:**\n",
    "\n",
    "Input: n = -1  \n",
    "Output: false  \n",
    "Explanation: There is no x where 3x = (-1)"
   ]
  },
  {
   "cell_type": "code",
   "execution_count": 22,
   "id": "a2103026",
   "metadata": {},
   "outputs": [
    {
     "name": "stdout",
     "output_type": "stream",
     "text": [
      "True\n"
     ]
    }
   ],
   "source": [
    "#Example 1\n",
    "def is_power_of_three(n):\n",
    "    if n <= 0:\n",
    "        return False\n",
    "    while n % 3 == 0:\n",
    "        n //= 3\n",
    "    return n == 1\n",
    "\n",
    "n = 27\n",
    "result = is_power_of_three(n)\n",
    "print(result)"
   ]
  },
  {
   "cell_type": "code",
   "execution_count": 23,
   "id": "b43b5f0b",
   "metadata": {},
   "outputs": [
    {
     "name": "stdout",
     "output_type": "stream",
     "text": [
      "False\n"
     ]
    }
   ],
   "source": [
    "def is_power_of_three(n):\n",
    "    if n <= 0:\n",
    "        return False\n",
    "    while n % 3 == 0:\n",
    "        n //= 3\n",
    "    return n == 1\n",
    "\n",
    "n = 0\n",
    "result = is_power_of_three(n)\n",
    "print(result)\n"
   ]
  },
  {
   "cell_type": "code",
   "execution_count": 24,
   "id": "08542e2c",
   "metadata": {},
   "outputs": [
    {
     "name": "stdout",
     "output_type": "stream",
     "text": [
      "False\n"
     ]
    }
   ],
   "source": [
    "def is_power_of_three(n):\n",
    "    if n <= 0:\n",
    "        return False\n",
    "    while n % 3 == 0:\n",
    "        n //= 3\n",
    "    return n == 1\n",
    "\n",
    "n = -1\n",
    "result = is_power_of_three(n)\n",
    "print(result)"
   ]
  },
  {
   "cell_type": "markdown",
   "id": "c1fb333b",
   "metadata": {},
   "source": [
    "**Question 2**\n",
    "\n",
    "You have a list `arr` of all integers in the range `[1, n]` sorted in a strictly increasing order. Apply the following algorithm on `arr`:\n",
    "\n",
    "- Starting from left to right, remove the first number and every other number afterward until you reach the end of the list.\n",
    "- Repeat the previous step again, but this time from right to left, remove the rightmost number and every other number from the remaining numbers.\n",
    "- Keep repeating the steps again, alternating left to right and right to left, until a single number remains.\n",
    "\n",
    "Given the integer `n`, return *the last number that remains in* `arr`.\n",
    "\n",
    "**Example 1:**\n",
    "\n",
    "\n",
    "Input: n = 9  \n",
    "Output: 6  \n",
    "Explanation:  \n",
    "arr = [1, 2,3, 4,5, 6,7, 8,9]    \n",
    "arr = [2,4, 6,8]  \n",
    "arr = [2, 6]  \n",
    "arr = [6]  \n",
    "\n",
    "\n",
    "\n",
    "**Example 2:**\n",
    "\n",
    "Input: n = 1  \n",
    "Output: 1"
   ]
  },
  {
   "cell_type": "code",
   "execution_count": 20,
   "id": "07a3f5fe",
   "metadata": {},
   "outputs": [
    {
     "name": "stdout",
     "output_type": "stream",
     "text": [
      "6\n"
     ]
    }
   ],
   "source": [
    "#Example 1\n",
    "def last_remaining(n):\n",
    "    left_to_right = True\n",
    "    remaining = n\n",
    "    step = 1\n",
    "    head = 1\n",
    "    \n",
    "    while remaining > 1:\n",
    "        if left_to_right or remaining % 2 == 1:\n",
    "            head += step\n",
    "        step *= 2\n",
    "        remaining //= 2\n",
    "        left_to_right = not left_to_right\n",
    "    \n",
    "    return head\n",
    "\n",
    "n = 9\n",
    "last_num = last_remaining(n)1`qwsxcd1qcc\n",
    "print(last_num)"
   ]
  },
  {
   "cell_type": "code",
   "execution_count": 21,
   "id": "5834adae",
   "metadata": {},
   "outputs": [
    {
     "name": "stdout",
     "output_type": "stream",
     "text": [
      "1\n"
     ]
    }
   ],
   "source": [
    "#Example 2\n",
    "def last_remaining(n):\n",
    "    left_to_right = True\n",
    "    remaining = n\n",
    "    step = 1\n",
    "    head = 1\n",
    "    \n",
    "    while remaining > 1:\n",
    "        if left_to_right or remaining % 2 == 1:\n",
    "            head += step\n",
    "        step *= 2\n",
    "        remaining //= 2\n",
    "        left_to_right = not left_to_right\n",
    "    \n",
    "    return head\n",
    "\n",
    "# Example usage\n",
    "n = 1\n",
    "last_num = last_remaining(n)\n",
    "print(last_num)"
   ]
  },
  {
   "cell_type": "markdown",
   "id": "ab0206c5",
   "metadata": {},
   "source": [
    "**Question 3**\n",
    "Given a set represented as a string, write a recursive code to print all subsets of it. The subsets can be printed in any order.\n",
    "\n",
    "**Example 1:**\n",
    "\n",
    "Input :  set = “abc”\n",
    "\n",
    "Output : { “”, “a”, “b”, “c”, “ab”, “ac”, “bc”, “abc”}\n",
    "\n",
    "**Example 2:**\n",
    "\n",
    "Input : set = “abcd”\n",
    "\n",
    "Output : { “”, “a” ,”ab” ,”abc” ,”abcd”, “abd” ,”ac” ,”acd”, “ad” ,”b”, “bc” ,”bcd” ,”bd” ,”c” ,”cd” ,”d” }\n"
   ]
  },
  {
   "cell_type": "code",
   "execution_count": 18,
   "id": "6d7a84ef",
   "metadata": {},
   "outputs": [
    {
     "name": "stdout",
     "output_type": "stream",
     "text": [
      "{  }\n",
      "{ c }\n",
      "{ b }\n",
      "{ bc }\n",
      "{ a }\n",
      "{ ac }\n",
      "{ ab }\n",
      "{ abc }\n"
     ]
    }
   ],
   "source": [
    "#Example 1\n",
    "def print_subsets(string, subset=\"\"):\n",
    "    if len(string) == 0:\n",
    "        print(\"{\", subset, \"}\")\n",
    "        return\n",
    "    else:\n",
    "        print_subsets(string[1:], subset)\n",
    "        print_subsets(string[1:], subset + string[0])\n",
    "\n",
    "input_set = \"abc\"\n",
    "print_subsets(input_set)"
   ]
  },
  {
   "cell_type": "code",
   "execution_count": 19,
   "id": "67f80659",
   "metadata": {},
   "outputs": [
    {
     "name": "stdout",
     "output_type": "stream",
     "text": [
      "{  }\n",
      "{ d }\n",
      "{ c }\n",
      "{ cd }\n",
      "{ b }\n",
      "{ bd }\n",
      "{ bc }\n",
      "{ bcd }\n",
      "{ a }\n",
      "{ ad }\n",
      "{ ac }\n",
      "{ acd }\n",
      "{ ab }\n",
      "{ abd }\n",
      "{ abc }\n",
      "{ abcd }\n"
     ]
    }
   ],
   "source": [
    "def print_subsets(string, subset=\"\"):\n",
    "    if len(string) == 0:\n",
    "        print(\"{\", subset, \"}\")\n",
    "        return\n",
    "    else:\n",
    "        print_subsets(string[1:], subset)\n",
    "        print_subsets(string[1:], subset + string[0])\n",
    "        \n",
    "input_set = \"abcd\"\n",
    "print_subsets(input_set)"
   ]
  },
  {
   "cell_type": "markdown",
   "id": "a43da4e7",
   "metadata": {},
   "source": [
    "**Question 4**\n",
    "\n",
    "Given a string calculate length of the string using recursion.\n",
    "\n",
    "**Examples:**\n",
    "Input : str = \"abcd\"  \n",
    "Output :4  \n",
    "\n",
    "Input : str = \"GEEKSFORGEEKS\"  \n",
    "Output :13  "
   ]
  },
  {
   "cell_type": "code",
   "execution_count": 16,
   "id": "1b35f964",
   "metadata": {},
   "outputs": [
    {
     "name": "stdout",
     "output_type": "stream",
     "text": [
      "4\n"
     ]
    }
   ],
   "source": [
    "#Example 1\n",
    "def calculate_length(string):\n",
    "    if string == \"\":\n",
    "        return 0\n",
    "    else:\n",
    "        return 1 + calculate_length(string[1:])\n",
    "    \n",
    "input_str = \"abcd\"\n",
    "length = calculate_length(input_str)\n",
    "print(length)"
   ]
  },
  {
   "cell_type": "code",
   "execution_count": 17,
   "id": "c092cda8",
   "metadata": {},
   "outputs": [
    {
     "name": "stdout",
     "output_type": "stream",
     "text": [
      "13\n"
     ]
    }
   ],
   "source": [
    "#Example 2\n",
    "def calculate_length(string):\n",
    "    if string == \"\":\n",
    "        return 0\n",
    "    else:\n",
    "        return 1 + calculate_length(string[1:])\n",
    "\n",
    "# Example usage\n",
    "input_str = \"GEEKSFORGEEKS\"\n",
    "length = calculate_length(input_str)\n",
    "print(length)"
   ]
  },
  {
   "cell_type": "markdown",
   "id": "34e32eae",
   "metadata": {},
   "source": [
    " **Question 5**\n",
    "\n",
    "We are given a string S, we need to find count of all contiguous substrings starting and ending with same character.\n",
    "\n",
    "**Examples :**\n",
    "Input  : S = \"abcab\"  \n",
    "Output : 7  \n",
    "There are 15 substrings of \"abcab\"  \n",
    "a, ab, abc, abca, abcab, b, bc, bca  \n",
    "bcab, c, ca, cab, a, ab, b  \n",
    "Out of the above substrings, there  \n",
    "are 7 substrings : a, abca, b, bcab,  \n",
    "c, a and b.  \n",
    "\n",
    "Input  : S = \"aba\"   \n",
    "Output : 4  \n",
    "The substrings are a, b, a and aba  "
   ]
  },
  {
   "cell_type": "code",
   "execution_count": 15,
   "id": "ccaa392b",
   "metadata": {},
   "outputs": [
    {
     "name": "stdout",
     "output_type": "stream",
     "text": [
      "7\n"
     ]
    }
   ],
   "source": [
    "#Example 1\n",
    "def checkEquality(s):\n",
    "    return (ord(s[0]) == ord(s[len(s) - 1]));\n",
    "\n",
    "def countSubstringWithEqualEnds(s):\n",
    "    result = 0;\n",
    "    n = len(s);\n",
    "\n",
    "    for i in range(n):\n",
    "\n",
    "        for j in range(1,n-i+1):\n",
    "\n",
    "            if (checkEquality(s[i:i+j])):\n",
    "                result+=1;\n",
    "\n",
    "    return result;\n",
    "\n",
    "s = \"abcab\";\n",
    "print(countSubstringWithEqualEnds(s));"
   ]
  },
  {
   "cell_type": "code",
   "execution_count": 12,
   "id": "6d4ec48e",
   "metadata": {},
   "outputs": [
    {
     "name": "stdout",
     "output_type": "stream",
     "text": [
      "4\n"
     ]
    }
   ],
   "source": [
    "#Example 2 \n",
    "def count_contiguous_substrings(s):\n",
    "    count = 0\n",
    "    n = len(s)\n",
    "    \n",
    "    for i in range(n):\n",
    "        count += 1   \n",
    "        \n",
    "        j = i - 1\n",
    "        k = i + 1\n",
    "        \n",
    "        while j >= 0 and k < n and s[j] == s[k]:\n",
    "            count += 1\n",
    "            j -= 1\n",
    "            k += 1\n",
    "\n",
    "    return count\n",
    "\n",
    "S = \"aba\"\n",
    "result = count_contiguous_substrings(S)\n",
    "print(result)"
   ]
  },
  {
   "cell_type": "markdown",
   "id": "2aff9459",
   "metadata": {},
   "source": [
    "**Question 6**\n",
    "\n",
    "The [tower of Hanoi](https://en.wikipedia.org/wiki/Tower_of_Hanoi) is a famous puzzle where we have three rods and **N** disks. The objective of the puzzle is to move the entire stack to another rod. You are given the number of discs **N**. Initially, these discs are in the rod 1. You need to print all the steps of discs movement so that all the discs reach the 3rd rod. Also, you need to find the total moves.**Note:** The discs are arranged such that the **top disc is numbered 1** and the **bottom-most disc is numbered N**. Also, all the discs have **different sizes** and a bigger disc **cannot** be put on the top of a smaller disc. Refer the provided link to get a better clarity about the puzzle.\n",
    "\n",
    "**Example 1:**\n",
    "Input:  \n",
    "N = 2  \n",
    "Output:  \n",
    "move disk 1 from rod 1 to rod   \n",
    "move disk 2 from rod 1 to rod 3  \n",
    "move disk 1 from rod 2 to rod 3  \n",
    "3  \n",
    "Explanation:For N=2 , steps will be  \n",
    "as follows in the example and total  \n",
    "3 steps will be taken.  \n",
    "\n",
    "**Example 2:**\n",
    "Input:  \n",
    "N = 3  \n",
    "Output:  \n",
    "move disk 1 from rod 1 to rod 3  \n",
    "move disk 2 from rod 1 to rod 2  \n",
    "move disk 1 from rod 3 to rod 2  \n",
    "move disk 3 from rod 1 to rod 3  \n",
    "move disk 1 from rod 2 to rod 1  \n",
    "move disk 2 from rod 2 to rod 3  \n",
    "move disk 1 from rod 1 to rod 3  \n",
    "7  \n",
    "Explanation:For N=3 , steps will be  \n",
    "as follows in the example and total  \n",
    "7 steps will be taken.  "
   ]
  },
  {
   "cell_type": "code",
   "execution_count": 8,
   "id": "0bd041f0",
   "metadata": {},
   "outputs": [
    {
     "name": "stdout",
     "output_type": "stream",
     "text": [
      "Move disk 1 from rod 1 to rod 2\n",
      "Move disk 2 from rod 1 to rod 3\n",
      "Move disk 1 from rod 2 to rod 3\n",
      "Total moves: 3\n"
     ]
    }
   ],
   "source": [
    "#Example 1\n",
    "def tower_of_hanoi(n, source, auxiliary, destination):\n",
    "    if n == 1:\n",
    "        print(\"Move disk 1 from rod\", source, \"to rod\", destination)\n",
    "        return 1\n",
    "    else:\n",
    "        moves = 0\n",
    "        moves += tower_of_hanoi(n-1, source, destination, auxiliary)\n",
    "        print(\"Move disk\", n, \"from rod\", source, \"to rod\", destination)\n",
    "        moves += 1\n",
    "        moves += tower_of_hanoi(n-1, auxiliary, source, destination)\n",
    "        return moves\n",
    "\n",
    "N = 2\n",
    "total_moves = tower_of_hanoi(N, 1, 2, 3)\n",
    "print(\"Total moves:\", total_moves)"
   ]
  },
  {
   "cell_type": "code",
   "execution_count": 9,
   "id": "d1667915",
   "metadata": {},
   "outputs": [
    {
     "name": "stdout",
     "output_type": "stream",
     "text": [
      "Move disk 1 from rod 1 to rod 3\n",
      "Move disk 2 from rod 1 to rod 2\n",
      "Move disk 1 from rod 3 to rod 2\n",
      "Move disk 3 from rod 1 to rod 3\n",
      "Move disk 1 from rod 2 to rod 1\n",
      "Move disk 2 from rod 2 to rod 3\n",
      "Move disk 1 from rod 1 to rod 3\n",
      "Total moves: 7\n"
     ]
    }
   ],
   "source": [
    "def tower_of_hanoi(n, source, auxiliary, destination):\n",
    "    if n == 1:\n",
    "        print(\"Move disk 1 from rod\", source, \"to rod\", destination)\n",
    "        return 1\n",
    "    else:\n",
    "        moves = 0\n",
    "        moves += tower_of_hanoi(n-1, source, destination, auxiliary)\n",
    "        print(\"Move disk\", n, \"from rod\", source, \"to rod\", destination)\n",
    "        moves += 1\n",
    "        moves += tower_of_hanoi(n-1, auxiliary, source, destination)\n",
    "        return moves\n",
    "\n",
    "N = 3\n",
    "total_moves = tower_of_hanoi(N, 1, 2, 3)\n",
    "print(\"Total moves:\", total_moves)\n"
   ]
  },
  {
   "cell_type": "markdown",
   "id": "4ab25087",
   "metadata": {},
   "source": [
    "**Question 7**\n",
    "\n",
    "Given a string **str**, the task is to print all the permutations of **str**. A **permutation** is an arrangement of all or part of a set of objects, with regard to the order of the arrangement. For instance, the words ‘bat’ and ‘tab’ represents two distinct permutation (or arrangements) of a similar three letter word.\n",
    "\n",
    "**Examples:**\n",
    "> Input: str = “cd”\n",
    "> \n",
    "> \n",
    "> **Output:** cd dc\n",
    "> \n",
    "> **Input:** str = “abb”\n",
    "> \n",
    "> **Output:** abb abb bab bba bab bba\n",
    ">"
   ]
  },
  {
   "cell_type": "code",
   "execution_count": 5,
   "id": "a3ccb6eb",
   "metadata": {},
   "outputs": [
    {
     "name": "stdout",
     "output_type": "stream",
     "text": [
      "cd\n",
      "dc\n"
     ]
    }
   ],
   "source": [
    "#Example 1\n",
    "from itertools import permutations\n",
    "\n",
    "def print_permutations(string):\n",
    "    perm_list = list(permutations(string))\n",
    "    for perm in perm_list:\n",
    "        print(''.join(perm))\n",
    "\n",
    "input_string = \"cd\"\n",
    "print_permutations(input_string)"
   ]
  },
  {
   "cell_type": "code",
   "execution_count": 7,
   "id": "58c0e22b",
   "metadata": {},
   "outputs": [
    {
     "name": "stdout",
     "output_type": "stream",
     "text": [
      "abb\n",
      "abb\n",
      "bab\n",
      "bba\n",
      "bab\n",
      "bba\n"
     ]
    }
   ],
   "source": [
    "#Example 2\n",
    "from itertools import permutations\n",
    "\n",
    "def print_permutations(string):\n",
    "    perm_list = list(permutations(string))\n",
    "    for perm in perm_list:\n",
    "        print(''.join(perm))\n",
    "\n",
    "# Example usage\n",
    "input_string = \"abb\"\n",
    "print_permutations(input_string)"
   ]
  },
  {
   "cell_type": "markdown",
   "id": "6942dcc3",
   "metadata": {},
   "source": [
    "**Question 8**\n",
    "\n",
    "Given a string, count total number of consonants in it. A consonant is an English alphabet character that is not vowel (a, e, i, o and u). Examples of constants are b, c, d, f, and g.\n",
    "\n",
    "**Examples :**\n",
    "Input : abc de  \n",
    "Output : 3  \n",
    "There are three consonants b, c and d.  \n",
    " \n",
    "Input : geeksforgeeks portal  \n",
    "Output : 12  "
   ]
  },
  {
   "cell_type": "code",
   "execution_count": 2,
   "id": "0098c629",
   "metadata": {},
   "outputs": [
    {
     "name": "stdout",
     "output_type": "stream",
     "text": [
      "3\n"
     ]
    }
   ],
   "source": [
    "#Exanple 1\n",
    "def count_consonants(string):\n",
    "    consonants = 0\n",
    "    vowels = ['a', 'e', 'i', 'o', 'u']\n",
    "\n",
    "    for char in string:\n",
    "        if char.isalpha() and char.lower() not in vowels:\n",
    "            consonants += 1\n",
    "\n",
    "    return consonants\n",
    "\n",
    "input_string = \"abc de\"\n",
    "result = count_consonants(input_string)\n",
    "print(result)"
   ]
  },
  {
   "cell_type": "code",
   "execution_count": 3,
   "id": "ee4664ed",
   "metadata": {},
   "outputs": [
    {
     "name": "stdout",
     "output_type": "stream",
     "text": [
      "12\n"
     ]
    }
   ],
   "source": [
    "#Example 2\n",
    "def count_consonants(string):\n",
    "    consonants = \"bcdfghjklmnpqrstvwxyzBCDFGHJKLMNPQRSTVWXYZ\"\n",
    "    count = 0\n",
    "    for char in string:\n",
    "        if char in consonants:\n",
    "            count += 1\n",
    "    return count\n",
    "\n",
    "input_string = \"geeksforgeeks portal\"\n",
    "consonant_count = count_consonants(input_string)\n",
    "print(consonant_count)"
   ]
  }
 ],
 "metadata": {
  "kernelspec": {
   "display_name": "Python 3 (ipykernel)",
   "language": "python",
   "name": "python3"
  },
  "language_info": {
   "codemirror_mode": {
    "name": "ipython",
    "version": 3
   },
   "file_extension": ".py",
   "mimetype": "text/x-python",
   "name": "python",
   "nbconvert_exporter": "python",
   "pygments_lexer": "ipython3",
   "version": "3.9.12"
  }
 },
 "nbformat": 4,
 "nbformat_minor": 5
}
