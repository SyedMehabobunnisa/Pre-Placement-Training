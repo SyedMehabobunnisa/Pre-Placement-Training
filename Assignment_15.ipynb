{
 "cells": [
  {
   "cell_type": "markdown",
   "id": "302cf25e",
   "metadata": {},
   "source": [
    "**Question 1**\n",
    "\n",
    "Given an array **arr[ ]** of size **N** having elements, the task is to find the next greater element for each element of the array in order of their appearance in the array.Next greater element of an element in the array is the nearest element on the right which is greater than the current element.If there does not exist next greater of current element, then next greater element for current element is -1. For example, next greater of the last element is always -1.\n",
    "\n",
    "**Example 1:**\n",
    "\n",
    "Input:  \n",
    "N = 4, arr[] = [1 3 2 4]  \n",
    "Output:  \n",
    "3 4 4 -1  \n",
    "Explanation:  \n",
    "In the array, the next larger element\n",
    "to 1 is 3 , 3 is 4 , 2 is 4 and for 4 ?\n",
    "since it doesn't exist, it is -1.\n",
    "\n",
    "**Example 2:**  \n",
    "\n",
    "\n",
    "Input:  \n",
    "N = 5, arr[] [6 8 0 1 3]  \n",
    "Output:  \n",
    "8 -1 1 3 -1  \n",
    "Explanation:  \n",
    "In the array, the next larger element to  \n",
    "6 is 8, for 8 there is no larger elements  \n",
    "hence it is -1, for 0 it is 1 , for 1 it  \n",
    "is 3 and then for 3 there is no larger  \n",
    "element on right and hence -1.  "
   ]
  },
  {
   "cell_type": "code",
   "execution_count": 2,
   "id": "5d64add7",
   "metadata": {},
   "outputs": [
    {
     "name": "stdout",
     "output_type": "stream",
     "text": [
      "[3, 4, 4, -1]\n"
     ]
    }
   ],
   "source": [
    "def find_next_greater_element(arr):\n",
    "    stack = []\n",
    "    result = []\n",
    "\n",
    "    for i in range(len(arr) - 1, -1, -1):\n",
    "        while stack and stack[-1] <= arr[i]:\n",
    "            stack.pop()\n",
    "\n",
    "        if not stack:\n",
    "            result.append(-1)\n",
    "        else:\n",
    "            result.append(stack[-1])\n",
    "\n",
    "        stack.append(arr[i])\n",
    "\n",
    "    result.reverse()\n",
    "\n",
    "    return result\n",
    "\n",
    "\n",
    "arr = [1, 3, 2, 4]\n",
    "result = find_next_greater_element(arr)\n",
    "print(result)"
   ]
  },
  {
   "cell_type": "code",
   "execution_count": 3,
   "id": "e6cbef1c",
   "metadata": {},
   "outputs": [
    {
     "name": "stdout",
     "output_type": "stream",
     "text": [
      "[8, -1, 1, 3, -1]\n"
     ]
    }
   ],
   "source": [
    "def find_next_greater_element(arr):\n",
    "    stack = []\n",
    "    result = []\n",
    "\n",
    "    for i in range(len(arr) - 1, -1, -1):\n",
    "        while stack and stack[-1] <= arr[i]:\n",
    "            stack.pop()\n",
    "\n",
    "        if not stack:\n",
    "            result.append(-1)\n",
    "        else:\n",
    "            result.append(stack[-1])\n",
    "\n",
    "        stack.append(arr[i])\n",
    "\n",
    "    result.reverse()\n",
    "\n",
    "    return result\n",
    "\n",
    "\n",
    "arr = [6, 8, 0, 1, 3]\n",
    "result = find_next_greater_element(arr)\n",
    "print(result)"
   ]
  },
  {
   "cell_type": "markdown",
   "id": "8e386067",
   "metadata": {},
   "source": [
    "**Question 2**\n",
    "\n",
    "Given an array **a** of integers of length **n**, find the nearest smaller number for every element such that the smaller element is on left side.If no small element present on the left print -1.\n",
    "\n",
    "**Example 1:**\n",
    "\n",
    "  \n",
    "Input: n = 3  \n",
    "a = {1, 6, 2}   \n",
    "Output: -1 1 1  \n",
    "Explaination: There is no number at the   \n",
    "left of 1. Smaller number than 6 and 2 is 1.  \n",
    "\n",
    "\n",
    "**Example 2:**\n",
    "\n",
    "\n",
    "Input: n = 6   \n",
    "a = {1, 5, 0, 3, 4, 5}   \n",
    "Output: -1 1 -1 0 3 4  \n",
    "Explaination: Upto 3 it is easy to see     \n",
    "the smaller numbers. But for 4 the smaller   \n",
    "numbers are 1, 0 and 3. But among them 3  \n",
    "is closest. Similary for 5 it is 4.  \n"
   ]
  },
  {
   "cell_type": "code",
   "execution_count": 4,
   "id": "7691a09f",
   "metadata": {},
   "outputs": [
    {
     "name": "stdout",
     "output_type": "stream",
     "text": [
      "[-1, 1, 1]\n"
     ]
    }
   ],
   "source": [
    "def find_nearest_smaller_number(a):\n",
    "    stack = []\n",
    "    result = []\n",
    "\n",
    "    for num in a:\n",
    "        while stack and stack[-1] >= num:\n",
    "            stack.pop()\n",
    "\n",
    "        if not stack:\n",
    "            result.append(-1)\n",
    "        else:\n",
    "            result.append(stack[-1])\n",
    "\n",
    "        stack.append(num)\n",
    "\n",
    "    return result\n",
    "\n",
    "\n",
    "a = [1, 6, 2]\n",
    "result = find_nearest_smaller_number(a)\n",
    "print(result)"
   ]
  },
  {
   "cell_type": "code",
   "execution_count": 5,
   "id": "7ad0c521",
   "metadata": {},
   "outputs": [
    {
     "name": "stdout",
     "output_type": "stream",
     "text": [
      "[-1, 1, -1, 0, 3, 4]\n"
     ]
    }
   ],
   "source": [
    "def find_nearest_smaller_number(a):\n",
    "    stack = []\n",
    "    result = []\n",
    "\n",
    "    for num in a:\n",
    "        while stack and stack[-1] >= num:\n",
    "            stack.pop()\n",
    "\n",
    "        if not stack:\n",
    "            result.append(-1)\n",
    "        else:\n",
    "            result.append(stack[-1])\n",
    "\n",
    "        stack.append(num)\n",
    "\n",
    "    return result\n",
    "\n",
    "\n",
    "a = [1, 5, 0, 3, 4, 5]\n",
    "result = find_nearest_smaller_number(a)\n",
    "print(result)"
   ]
  },
  {
   "cell_type": "markdown",
   "id": "0e84b4b1",
   "metadata": {},
   "source": [
    "**Question 3**\n",
    "\n",
    "Implement a Stack using two queues **q1** and **q2**.\n",
    "\n",
    "**Example 1:**\n",
    "\n",
    "\n",
    "Input:  \n",
    "push(2)  \n",
    "push(3)  \n",
    "pop()  \n",
    "push(4)  \n",
    "pop()  \n",
    "Output:3 4  \n",
    "Explanation:  \n",
    "push(2) the stack will be {2}  \n",
    "push(3) the stack will be {2 3}  \n",
    "pop()   poped element will be 3 the  \n",
    "        stack will be {2}      \n",
    "push(4) the stack will be {2 4}  \n",
    "pop()   poped element will be 4  \n",
    "\n",
    "\n",
    "\n",
    "**Example 2:**  \n",
    "  \n",
    "       \n",
    "Input:  \n",
    "push(2)  \n",
    "pop()  \n",
    "pop()  \n",
    "push(3)    \n",
    "Output:2 -1  "
   ]
  },
  {
   "cell_type": "code",
   "execution_count": 6,
   "id": "fa7718d9",
   "metadata": {},
   "outputs": [
    {
     "name": "stdout",
     "output_type": "stream",
     "text": [
      "3\n",
      "4\n"
     ]
    }
   ],
   "source": [
    "from queue import Queue\n",
    "\n",
    "class Stack:\n",
    "    def __init__(self):\n",
    "        self.q1 = Queue()\n",
    "        self.q2 = Queue()\n",
    "\n",
    "    def push(self, val):\n",
    "        self.q1.put(val)\n",
    "\n",
    "    def pop(self):\n",
    "        while self.q1.qsize() > 1:\n",
    "            self.q2.put(self.q1.get())\n",
    "\n",
    "        element = self.q1.get()\n",
    "\n",
    "        self.q1, self.q2 = self.q2, self.q1\n",
    "\n",
    "        return element\n",
    "\n",
    "\n",
    "stack = Stack()\n",
    "stack.push(2)\n",
    "stack.push(3)\n",
    "print(stack.pop()) \n",
    "stack.push(4)\n",
    "print(stack.pop())  "
   ]
  },
  {
   "cell_type": "code",
   "execution_count": null,
   "id": "4b1c1ad6",
   "metadata": {},
   "outputs": [
    {
     "name": "stdout",
     "output_type": "stream",
     "text": [
      "2\n"
     ]
    }
   ],
   "source": [
    "from queue import Queue\n",
    "\n",
    "class Stack:\n",
    "    def __init__(self):\n",
    "        self.q1 = Queue()\n",
    "        self.q2 = Queue()\n",
    "\n",
    "    def push(self, val):\n",
    "        self.q1.put(val)\n",
    "\n",
    "    def pop(self):\n",
    "        while self.q1.qsize() > 1:\n",
    "            self.q2.put(self.q1.get())\n",
    "\n",
    "        element = self.q1.get()\n",
    "\n",
    "        self.q1, self.q2 = self.q2, self.q1\n",
    "\n",
    "        return element\n",
    "\n",
    "\n",
    "stack = Stack()\n",
    "stack.push(2)\n",
    "print(stack.pop()) \n",
    "print(stack.pop())  \n",
    "stack.push(3)"
   ]
  },
  {
   "cell_type": "markdown",
   "id": "187192f7",
   "metadata": {},
   "source": [
    "\n",
    "**Question 4**\n",
    "\n",
    "You are given a stack **St**. You have to reverse the stack using recursion.  \n",
    "\n",
    "**Example 1:**\n",
    "  \n",
    "\n",
    "Input:St = {3,2,1,7,6}  \n",
    "Output:{6,7,1,2,3}  \n",
    "  \n",
    "  \n",
    "**Example 2:**  \n",
    "\n",
    "Input:St = {4,3,9,6}  \n",
    "Output:{6,9,3,4}  "
   ]
  },
  {
   "cell_type": "code",
   "execution_count": 1,
   "id": "acfa2346",
   "metadata": {},
   "outputs": [
    {
     "name": "stdout",
     "output_type": "stream",
     "text": [
      "Original stack: [3, 2, 1, 7, 6]\n",
      "Reversed stack: [6, 7, 1, 2, 3]\n"
     ]
    }
   ],
   "source": [
    "class Stack:\n",
    "    def __init__(self):\n",
    "        self.items = []\n",
    "\n",
    "    def is_empty(self):\n",
    "        return len(self.items) == 0\n",
    "\n",
    "    def push(self, item):\n",
    "        self.items.append(item)\n",
    "\n",
    "    def pop(self):\n",
    "        if not self.is_empty():\n",
    "            return self.items.pop()\n",
    "\n",
    "    def reverse(self):\n",
    "        if not self.is_empty():\n",
    "            item = self.pop()\n",
    "            self.reverse()\n",
    "            self.insert_at_bottom(item)\n",
    "\n",
    "    def insert_at_bottom(self, item):\n",
    "        if self.is_empty():\n",
    "            self.push(item)\n",
    "        else:\n",
    "            temp = self.pop()\n",
    "            self.insert_at_bottom(item)\n",
    "            self.push(temp)\n",
    "\n",
    "\n",
    "st = Stack()\n",
    "st.push(3)\n",
    "st.push(2)\n",
    "st.push(1)\n",
    "st.push(7)\n",
    "st.push(6)\n",
    "\n",
    "print(\"Original stack:\", st.items)\n",
    "st.reverse()\n",
    "print(\"Reversed stack:\", st.items)"
   ]
  },
  {
   "cell_type": "code",
   "execution_count": 2,
   "id": "b2090155",
   "metadata": {},
   "outputs": [
    {
     "name": "stdout",
     "output_type": "stream",
     "text": [
      "Original stack: [4, 3, 9, 6]\n",
      "Reversed stack: [6, 9, 3, 4]\n"
     ]
    }
   ],
   "source": [
    "class Stack:\n",
    "    def __init__(self):\n",
    "        self.items = []\n",
    "\n",
    "    def is_empty(self):\n",
    "        return len(self.items) == 0\n",
    "\n",
    "    def push(self, item):\n",
    "        self.items.append(item)\n",
    "\n",
    "    def pop(self):\n",
    "        if not self.is_empty():\n",
    "            return self.items.pop()\n",
    "\n",
    "    def reverse(self):\n",
    "        if not self.is_empty():\n",
    "            item = self.pop()\n",
    "            self.reverse()\n",
    "            self.insert_at_bottom(item)\n",
    "\n",
    "    def insert_at_bottom(self, item):\n",
    "        if self.is_empty():\n",
    "            self.push(item)\n",
    "        else:\n",
    "            temp = self.pop()\n",
    "            self.insert_at_bottom(item)\n",
    "            self.push(temp)\n",
    "\n",
    "\n",
    "st = Stack()\n",
    "st.push(4)\n",
    "st.push(3)\n",
    "st.push(9)\n",
    "st.push(6)\n",
    "\n",
    "print(\"Original stack:\", st.items)\n",
    "st.reverse()\n",
    "print(\"Reversed stack:\", st.items)"
   ]
  },
  {
   "cell_type": "markdown",
   "id": "c54d6e3a",
   "metadata": {},
   "source": [
    "\n",
    " **Question 5**\n",
    "\n",
    "You are given a string **S**, the task is to reverse the string using stack.\n",
    "\n",
    "**Example 1:**\n",
    "\n",
    "\n",
    "Input: S=\"GeeksforGeeks\"  \n",
    "Output: skeeGrofskeeG\n"
   ]
  },
  {
   "cell_type": "code",
   "execution_count": 3,
   "id": "2a4937b6",
   "metadata": {},
   "outputs": [
    {
     "name": "stdout",
     "output_type": "stream",
     "text": [
      "Reversed string: skeeGrofskeeG\n"
     ]
    }
   ],
   "source": [
    "class Stack:\n",
    "    def __init__(self):\n",
    "        self.items = []\n",
    "\n",
    "    def is_empty(self):\n",
    "        return len(self.items) == 0\n",
    "\n",
    "    def push(self, item):\n",
    "        self.items.append(item)\n",
    "\n",
    "    def pop(self):\n",
    "        if not self.is_empty():\n",
    "            return self.items.pop()\n",
    "\n",
    "\n",
    "def reverse_string(S):\n",
    "    stack = Stack()\n",
    "\n",
    "    for char in S:\n",
    "        stack.push(char)\n",
    "\n",
    "    reversed_string = \"\"\n",
    "    while not stack.is_empty():\n",
    "        reversed_string += stack.pop()\n",
    "\n",
    "    return reversed_string\n",
    "\n",
    "\n",
    "S = \"GeeksforGeeks\"\n",
    "reversed_str = reverse_string(S)\n",
    "print(\"Reversed string:\", reversed_str)"
   ]
  },
  {
   "cell_type": "markdown",
   "id": "571f2574",
   "metadata": {},
   "source": [
    "\n",
    "**Question 6**\n",
    "\n",
    "Given string **S** representing a postfix expression, the task is to evaluate the expression and find the final value. Operators will only include the basic arithmetic operators like ***, /, + and -**.  \n",
    "\n",
    "**Example 1:**  \n",
    "\n",
    "\n",
    "Input: S = \"231*+9-\"  \n",
    "Output: -4  \n",
    "Explanation:  \n",
    "After solving the given expression,  \n",
    "we have -4 as result.  \n",
    "\n",
    "\n",
    "\n",
    "**Example 2:**\n",
    "\n",
    "  \n",
    "Input: S = \"123+*8-\"  \n",
    "Output: -3  \n",
    "Explanation:  \n",
    "After solving the given postfix  \n",
    "expression, we have -3 as result.  \n"
   ]
  },
  {
   "cell_type": "code",
   "execution_count": 4,
   "id": "83f76e64",
   "metadata": {},
   "outputs": [
    {
     "name": "stdout",
     "output_type": "stream",
     "text": [
      "Result: -4\n"
     ]
    }
   ],
   "source": [
    "class Stack:\n",
    "    def __init__(self):\n",
    "        self.items = []\n",
    "\n",
    "    def is_empty(self):\n",
    "        return len(self.items) == 0\n",
    "\n",
    "    def push(self, item):\n",
    "        self.items.append(item)\n",
    "\n",
    "    def pop(self):\n",
    "        if not self.is_empty():\n",
    "            return self.items.pop()\n",
    "\n",
    "\n",
    "def evaluate_postfix_expression(S):\n",
    "    stack = Stack()\n",
    "\n",
    "    for char in S:\n",
    "        if char.isdigit():\n",
    "            stack.push(int(char))\n",
    "        else:\n",
    "            operand2 = stack.pop()\n",
    "            operand1 = stack.pop()\n",
    "\n",
    "            if char == '*':\n",
    "                result = operand1 * operand2\n",
    "            elif char == '/':\n",
    "                result = operand1 / operand2\n",
    "            elif char == '+':\n",
    "                result = operand1 + operand2\n",
    "            elif char == '-':\n",
    "                result = operand1 - operand2\n",
    "\n",
    "            stack.push(result)\n",
    "\n",
    "    return stack.pop()\n",
    "\n",
    "\n",
    "S = \"231*+9-\"\n",
    "result = evaluate_postfix_expression(S)\n",
    "print(\"Result:\", result)"
   ]
  },
  {
   "cell_type": "code",
   "execution_count": 5,
   "id": "be870091",
   "metadata": {},
   "outputs": [
    {
     "name": "stdout",
     "output_type": "stream",
     "text": [
      "Result: -3\n"
     ]
    }
   ],
   "source": [
    "class Stack:\n",
    "    def __init__(self):\n",
    "        self.items = []\n",
    "\n",
    "    def is_empty(self):\n",
    "        return len(self.items) == 0\n",
    "\n",
    "    def push(self, item):\n",
    "        self.items.append(item)\n",
    "\n",
    "    def pop(self):\n",
    "        if not self.is_empty():\n",
    "            return self.items.pop()\n",
    "\n",
    "\n",
    "def evaluate_postfix_expression(S):\n",
    "    stack = Stack()\n",
    "\n",
    "    for char in S:\n",
    "        if char.isdigit():\n",
    "            stack.push(int(char))\n",
    "        else:\n",
    "            operand2 = stack.pop()\n",
    "            operand1 = stack.pop()\n",
    "\n",
    "            if char == '*':\n",
    "                result = operand1 * operand2\n",
    "            elif char == '/':\n",
    "                result = operand1 / operand2\n",
    "            elif char == '+':\n",
    "                result = operand1 + operand2\n",
    "            elif char == '-':\n",
    "                result = operand1 - operand2\n",
    "\n",
    "            stack.push(result)\n",
    "\n",
    "    return stack.pop()\n",
    "\n",
    "S = \"123+*8-\"\n",
    "result = evaluate_postfix_expression(S)\n",
    "print(\"Result:\", result)"
   ]
  },
  {
   "cell_type": "markdown",
   "id": "1dab85a7",
   "metadata": {},
   "source": [
    "**Question 7**\n",
    "\n",
    "Design a stack that supports push, pop, top, and retrieving the minimum element in constant time.\n",
    "\n",
    "Implement the `MinStack` class:\n",
    "\n",
    "- `MinStack()` initializes the stack object.\n",
    "- `void push(int val)` pushes the element `val` onto the stack.\n",
    "- `void pop()` removes the element on the top of the stack.\n",
    "- `int top()` gets the top element of the stack.\n",
    "- `int getMin()` retrieves the minimum element in the stack.\n",
    "\n",
    "You must implement a solution with `O(1)` time complexity for each function.\n",
    "\n",
    "**Example 1:**\n",
    "\n",
    "\n",
    "Input\n",
    "[\"MinStack\",\"push\",\"push\",\"push\",\"getMin\",\"pop\",\"top\",\"getMin\"]  \n",
    "[[],[-2],[0],[-3],[],[],[],[]]  \n",
    "  \n",
    "Output  \n",
    "[null,null,null,null,-3,null,0,-2]  \n",
    "  \n",
    "Explanation  \n",
    "MinStack minStack = new MinStack();  \n",
    "minStack.push(-2);  \n",
    "minStack.push(0);  \n",
    "minStack.push(-3);  \n",
    "minStack.getMin(); // return -3  \n",
    "minStack.pop();  \n",
    "minStack.top();    // return 0  \n",
    "minStack.getMin(); // return -2  \n"
   ]
  },
  {
   "cell_type": "code",
   "execution_count": 6,
   "id": "8ddedc02",
   "metadata": {},
   "outputs": [
    {
     "name": "stdout",
     "output_type": "stream",
     "text": [
      "-3\n",
      "0\n",
      "-2\n"
     ]
    }
   ],
   "source": [
    "class MinStack:\n",
    "    def __init__(self):\n",
    "        self.stack = []\n",
    "        self.min_stack = []\n",
    "\n",
    "    def push(self, val):\n",
    "        self.stack.append(val)\n",
    "\n",
    "        if len(self.min_stack) == 0 or val <= self.min_stack[-1]:\n",
    "            self.min_stack.append(val)\n",
    "\n",
    "    def pop(self):\n",
    "        if len(self.stack) == 0:\n",
    "            return\n",
    "\n",
    "        popped_val = self.stack.pop()\n",
    "\n",
    "        if popped_val == self.min_stack[-1]:\n",
    "            self.min_stack.pop()\n",
    "\n",
    "    def top(self):\n",
    "        if len(self.stack) == 0:\n",
    "            return None\n",
    "\n",
    "        return self.stack[-1]\n",
    "\n",
    "    def getMin(self):\n",
    "        if len(self.min_stack) == 0:\n",
    "            return None\n",
    "\n",
    "        return self.min_stack[-1]\n",
    "\n",
    "\n",
    "minStack = MinStack()\n",
    "minStack.push(-2)\n",
    "minStack.push(0)\n",
    "minStack.push(-3)\n",
    "print(minStack.getMin())  \n",
    "minStack.pop()\n",
    "print(minStack.top())     \n",
    "print(minStack.getMin())  "
   ]
  },
  {
   "attachments": {
    "image.png": {
     "image/png": "[encoded data removed]"
    }
   },
   "cell_type": "markdown",
   "id": "43fd2897",
   "metadata": {},
   "source": [
    "\n",
    "\n",
    "**Question 8**\n",
    "\n",
    "Given `n` non-negative integers representing an elevation map where the width of each bar is `1`, compute how much water it can trap after raining.\n",
    "\n",
    "**Example 1:**\n",
    "\n",
    "![image.png](attachment:image.png)\n",
    "\n",
    "\n",
    "Input: height = [0,1,0,2,1,0,1,3,2,1,2,1]  \n",
    "Output: 6  \n",
    "Explanation: The above elevation map (black section) is represented by array [0,1,0,2,1,0,1,3,2,1,2,1]. In this case, 6 units of rain water (blue section) are being trapped.\n",
    "\n",
    "\n",
    "\n",
    "**Example 2:**\n",
    "Input: height = [4,2,0,3,2,5]  \n",
    "Output: 9  \n"
   ]
  },
  {
   "cell_type": "code",
   "execution_count": 7,
   "id": "cb570d59",
   "metadata": {},
   "outputs": [
    {
     "name": "stdout",
     "output_type": "stream",
     "text": [
      "Trapped Water: 6\n"
     ]
    }
   ],
   "source": [
    "def trap(height):\n",
    "    left = 0\n",
    "    right = len(height) - 1\n",
    "    left_max = 0\n",
    "    right_max = 0\n",
    "    trapped_water = 0\n",
    "\n",
    "    while left < right:\n",
    "        if height[left] < height[right]:\n",
    "            if height[left] >= left_max:\n",
    "                left_max = height[left]\n",
    "            else:\n",
    "                trapped_water += left_max - height[left]\n",
    "            left += 1\n",
    "        else:\n",
    "            if height[right] >= right_max:\n",
    "                right_max = height[right]\n",
    "            else:\n",
    "                trapped_water += right_max - height[right]\n",
    "            right -= 1\n",
    "\n",
    "    return trapped_water\n",
    "\n",
    "\n",
    "height = [0, 1, 0, 2, 1, 0, 1, 3, 2, 1, 2, 1]\n",
    "result = trap(height)\n",
    "print(\"Trapped Water:\", result)"
   ]
  },
  {
   "cell_type": "code",
   "execution_count": 8,
   "id": "13c3bb51",
   "metadata": {},
   "outputs": [
    {
     "name": "stdout",
     "output_type": "stream",
     "text": [
      "Trapped Water: 9\n"
     ]
    }
   ],
   "source": [
    "def trap(height):\n",
    "    left = 0\n",
    "    right = len(height) - 1\n",
    "    left_max = 0\n",
    "    right_max = 0\n",
    "    trapped_water = 0\n",
    "\n",
    "    while left < right:\n",
    "        if height[left] < height[right]:\n",
    "            if height[left] >= left_max:\n",
    "                left_max = height[left]\n",
    "            else:\n",
    "                trapped_water += left_max - height[left]\n",
    "            left += 1\n",
    "        else:\n",
    "            if height[right] >= right_max:\n",
    "                right_max = height[right]\n",
    "            else:\n",
    "                trapped_water += right_max - height[right]\n",
    "            right -= 1\n",
    "\n",
    "    return trapped_water\n",
    "\n",
    "height = [4,2,0,3,2,5]\n",
    "result = trap(height)\n",
    "print(\"Trapped Water:\", result)"
   ]
  },
  {
   "cell_type": "code",
   "execution_count": null,
   "id": "cae46ed6",
   "metadata": {},
   "outputs": [],
   "source": []
  }
 ],
 "metadata": {
  "kernelspec": {
   "display_name": "Python 3 (ipykernel)",
   "language": "python",
   "name": "python3"
  },
  "language_info": {
   "codemirror_mode": {
    "name": "ipython",
    "version": 3
   },
   "file_extension": ".py",
   "mimetype": "text/x-python",
   "name": "python",
   "nbconvert_exporter": "python",
   "pygments_lexer": "ipython3",
   "version": "3.9.12"
  }
 },
 "nbformat": 4,
 "nbformat_minor": 5
}
